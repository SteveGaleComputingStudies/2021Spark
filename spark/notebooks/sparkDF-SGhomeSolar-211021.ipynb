{
 "cells": [
  {
   "cell_type": "code",
   "execution_count": 1,
   "id": "17a029a7",
   "metadata": {},
   "outputs": [],
   "source": [
    "import findspark  \n",
    "findspark.init()  \n",
    "# run spark from jupyter notebook"
   ]
  },
  {
   "cell_type": "code",
   "execution_count": 2,
   "id": "3992fc5d",
   "metadata": {},
   "outputs": [
    {
     "name": "stderr",
     "output_type": "stream",
     "text": [
      "WARNING: An illegal reflective access operation has occurred\n",
      "WARNING: Illegal reflective access by org.apache.spark.unsafe.Platform (file:/opt/spark/jars/spark-unsafe_2.12-3.1.2.jar) to constructor java.nio.DirectByteBuffer(long,int)\n",
      "WARNING: Please consider reporting this to the maintainers of org.apache.spark.unsafe.Platform\n",
      "WARNING: Use --illegal-access=warn to enable warnings of further illegal reflective access operations\n",
      "WARNING: All illegal access operations will be denied in a future release\n",
      "Setting default log level to \"WARN\".\n",
      "To adjust logging level use sc.setLogLevel(newLevel). For SparkR, use setLogLevel(newLevel).\n"
     ]
    }
   ],
   "source": [
    "from pyspark.sql import SparkSession\n",
    "\n",
    "spark = SparkSession \\\n",
    "    .builder \\\n",
    "    .appName(\"Python Spark SQL basic example\") \\\n",
    "    .config(\"spark.some.config.option\", \"some-value\") \\\n",
    "    .getOrCreate()"
   ]
  },
  {
   "cell_type": "code",
   "execution_count": 3,
   "id": "911017be",
   "metadata": {},
   "outputs": [
    {
     "name": "stderr",
     "output_type": "stream",
     "text": [
      "                                                                                \r"
     ]
    }
   ],
   "source": [
    "df = spark.read.csv(\"sgHomeSolarData -211021.csv\", inferSchema = True, header = True)"
   ]
  },
  {
   "cell_type": "code",
   "execution_count": 4,
   "id": "6511969a",
   "metadata": {},
   "outputs": [
    {
     "name": "stdout",
     "output_type": "stream",
     "text": [
      "+---+-----------------+--------------+-----+----------------+\n",
      "| id|IOTSensorlocation|   Measurement|Value|        readDate|\n",
      "+---+-----------------+--------------+-----+----------------+\n",
      "|  1|         13111111|   Temperature| 21.6|14/09/2021 15:39|\n",
      "|  2|         13111111|   Temperature| 24.0|14/09/2021 16:40|\n",
      "|  3|         13111111|   Temperature| 24.0|14/09/2021 16:55|\n",
      "|  4|         13111111|   Temperature| 24.0|14/09/2021 16:56|\n",
      "|  5|         13111111|   Temperature| 24.0|14/09/2021 16:56|\n",
      "|  6|         13111111|   Temperature| 24.0|14/09/2021 16:57|\n",
      "|  7|         13111111|   Temperature| 24.0|14/09/2021 17:01|\n",
      "|  8|         13111111|   Temperature| 24.0|14/09/2021 17:02|\n",
      "|  9|         13111111|   Temperature| 21.6|14/09/2021 17:07|\n",
      "| 10|         13111111|   Temperature| 21.6|14/09/2021 17:09|\n",
      "| 11|   UpstairsAircon|   Temperature| 18.0|18/09/2021 17:37|\n",
      "| 12|       PVarrayGen|WattsGenetated|218.0|18/09/2021 17:37|\n",
      "| 13|       HouseUsage|  WattsMetered|  8.0|18/09/2021 17:37|\n",
      "| 14|       HouseUsage|    WattsUsage|226.0|18/09/2021 17:37|\n",
      "| 15|   UpstairsAircon|   Temperature| 18.0|18/09/2021 17:37|\n",
      "| 16|       PVarrayGen|WattsGenetated|216.0|18/09/2021 17:37|\n",
      "| 17|       HouseUsage|  WattsMetered| 14.0|18/09/2021 17:37|\n",
      "| 18|       HouseUsage|    WattsUsage|230.0|18/09/2021 17:37|\n",
      "| 19|   UpstairsAircon|   Temperature| 18.0|18/09/2021 17:37|\n",
      "| 20|       PVarrayGen|WattsGenetated|212.0|18/09/2021 17:37|\n",
      "+---+-----------------+--------------+-----+----------------+\n",
      "only showing top 20 rows\n",
      "\n"
     ]
    }
   ],
   "source": [
    "df.show()"
   ]
  },
  {
   "cell_type": "code",
   "execution_count": 5,
   "id": "dd892b80",
   "metadata": {},
   "outputs": [
    {
     "name": "stdout",
     "output_type": "stream",
     "text": [
      "root\n",
      " |-- id: integer (nullable = true)\n",
      " |-- IOTSensorlocation: string (nullable = true)\n",
      " |-- Measurement: string (nullable = true)\n",
      " |-- Value: double (nullable = true)\n",
      " |-- readDate: string (nullable = true)\n",
      "\n"
     ]
    }
   ],
   "source": [
    "df.printSchema()"
   ]
  },
  {
   "cell_type": "code",
   "execution_count": 6,
   "id": "6115c0a1",
   "metadata": {},
   "outputs": [
    {
     "name": "stderr",
     "output_type": "stream",
     "text": [
      "                                                                                \r"
     ]
    },
    {
     "data": {
      "text/plain": [
       "420279"
      ]
     },
     "execution_count": 6,
     "metadata": {},
     "output_type": "execute_result"
    }
   ],
   "source": [
    "df.count()"
   ]
  },
  {
   "cell_type": "code",
   "execution_count": 7,
   "id": "464b25c6",
   "metadata": {},
   "outputs": [
    {
     "name": "stderr",
     "output_type": "stream",
     "text": [
      "\r",
      "[Stage 5:>                                                          (0 + 1) / 1]\r"
     ]
    },
    {
     "name": "stdout",
     "output_type": "stream",
     "text": [
      "+-------+------------------+\n",
      "|summary|             Value|\n",
      "+-------+------------------+\n",
      "|  count|            105078|\n",
      "|   mean|17.711389634366853|\n",
      "| stddev| 1.718113504500662|\n",
      "|    min|              12.0|\n",
      "|    max|              24.0|\n",
      "+-------+------------------+\n",
      "\n"
     ]
    },
    {
     "name": "stderr",
     "output_type": "stream",
     "text": [
      "\r",
      "                                                                                \r"
     ]
    }
   ],
   "source": [
    "dfTemp = df.filter(df.Measurement =='Temperature')\n",
    "dfTemp.describe('Value').show()"
   ]
  },
  {
   "cell_type": "code",
   "execution_count": 8,
   "id": "d6589b79",
   "metadata": {},
   "outputs": [
    {
     "name": "stderr",
     "output_type": "stream",
     "text": [
      "\r",
      "[Stage 7:>                                                          (0 + 1) / 1]\r"
     ]
    },
    {
     "name": "stdout",
     "output_type": "stream",
     "text": [
      "+-----+-----------------+--------------+-----+----------------+\n",
      "|   id|IOTSensorlocation|   Measurement|Value|        readDate|\n",
      "+-----+-----------------+--------------+-----+----------------+\n",
      "| 2160|       PVarrayGen|WattsGenerated| -1.0|19/09/2021 14:45|\n",
      "|18004|       PVarrayGen|WattsGenerated| -1.0| 20/09/2021 6:29|\n",
      "| 2184|       PVarrayGen|WattsGenerated| -1.0|19/09/2021 14:47|\n",
      "| 4880|       PVarrayGen|WattsGenerated| -1.0|19/09/2021 17:27|\n",
      "| 4884|       PVarrayGen|WattsGenerated| -1.0|19/09/2021 17:28|\n",
      "| 5232|       PVarrayGen|WattsGenerated| -1.0|19/09/2021 17:48|\n",
      "| 5236|       PVarrayGen|WattsGenerated| -1.0|19/09/2021 17:49|\n",
      "| 5992|       PVarrayGen|WattsGenerated| -1.0|19/09/2021 18:34|\n",
      "| 5996|       PVarrayGen|WattsGenerated| -1.0|19/09/2021 18:34|\n",
      "| 6028|       PVarrayGen|WattsGenerated| -1.0|19/09/2021 18:36|\n",
      "| 6032|       PVarrayGen|WattsGenerated| -1.0|19/09/2021 18:36|\n",
      "| 7284|       PVarrayGen|WattsGenerated| -1.0|19/09/2021 19:51|\n",
      "| 7384|       PVarrayGen|WattsGenerated| -1.0|19/09/2021 19:57|\n",
      "|11036|       PVarrayGen|WattsGenerated| -1.0|19/09/2021 23:34|\n",
      "|11040|       PVarrayGen|WattsGenerated| -1.0|19/09/2021 23:34|\n",
      "|11220|       PVarrayGen|WattsGenerated| -1.0|19/09/2021 23:45|\n",
      "|12500|       PVarrayGen|WattsGenerated| -1.0| 20/09/2021 1:01|\n",
      "|12660|       PVarrayGen|WattsGenerated| -1.0| 20/09/2021 1:11|\n",
      "|13200|       PVarrayGen|WattsGenerated| -1.0| 20/09/2021 1:43|\n",
      "|14480|       PVarrayGen|WattsGenerated| -1.0| 20/09/2021 2:59|\n",
      "+-----+-----------------+--------------+-----+----------------+\n",
      "only showing top 20 rows\n",
      "\n"
     ]
    },
    {
     "name": "stderr",
     "output_type": "stream",
     "text": [
      "\r",
      "                                                                                \r"
     ]
    }
   ],
   "source": [
    "\n",
    "dfGen = df.filter(df.Measurement =='WattsGenerated')\n",
    "dfGen.orderBy(dfGen.Value).show()"
   ]
  },
  {
   "cell_type": "markdown",
   "id": "5d95ab21",
   "metadata": {},
   "source": [
    "# Selecting Multiple Columns"
   ]
  },
  {
   "cell_type": "code",
   "execution_count": 9,
   "id": "fd8b768e",
   "metadata": {},
   "outputs": [
    {
     "name": "stdout",
     "output_type": "stream",
     "text": [
      "+--------------+-----+\n",
      "|   Measurement|Value|\n",
      "+--------------+-----+\n",
      "|   Temperature| 21.6|\n",
      "|   Temperature| 24.0|\n",
      "|   Temperature| 24.0|\n",
      "|   Temperature| 24.0|\n",
      "|   Temperature| 24.0|\n",
      "|   Temperature| 24.0|\n",
      "|   Temperature| 24.0|\n",
      "|   Temperature| 24.0|\n",
      "|   Temperature| 21.6|\n",
      "|   Temperature| 21.6|\n",
      "|   Temperature| 18.0|\n",
      "|WattsGenetated|218.0|\n",
      "|  WattsMetered|  8.0|\n",
      "|    WattsUsage|226.0|\n",
      "|   Temperature| 18.0|\n",
      "|WattsGenetated|216.0|\n",
      "|  WattsMetered| 14.0|\n",
      "|    WattsUsage|230.0|\n",
      "|   Temperature| 18.0|\n",
      "|WattsGenetated|212.0|\n",
      "+--------------+-----+\n",
      "only showing top 20 rows\n",
      "\n"
     ]
    }
   ],
   "source": [
    "df.select('Measurement','Value').show()"
   ]
  },
  {
   "cell_type": "code",
   "execution_count": 10,
   "id": "86f220cd",
   "metadata": {},
   "outputs": [],
   "source": [
    "# Filtering Data Multiple parameters"
   ]
  },
  {
   "cell_type": "code",
   "execution_count": null,
   "id": "9edd5889",
   "metadata": {},
   "outputs": [],
   "source": []
  },
  {
   "cell_type": "code",
   "execution_count": 11,
   "id": "7e9f3a2c",
   "metadata": {},
   "outputs": [
    {
     "name": "stderr",
     "output_type": "stream",
     "text": [
      "\r",
      "[Stage 9:>                                                          (0 + 1) / 1]\r"
     ]
    },
    {
     "name": "stdout",
     "output_type": "stream",
     "text": [
      "+------+-----------------+--------------+------+----------------+\n",
      "|    id|IOTSensorlocation|   Measurement| Value|        readDate|\n",
      "+------+-----------------+--------------+------+----------------+\n",
      "|141996|       PVarrayGen|WattsGenerated|5085.0|25/09/2021 11:39|\n",
      "|141888|       PVarrayGen|WattsGenerated|5084.0|25/09/2021 11:33|\n",
      "| 46124|       PVarrayGen|WattsGenerated|5084.0|21/09/2021 11:48|\n",
      "|141920|       PVarrayGen|WattsGenerated|5082.0|25/09/2021 11:35|\n",
      "|220032|       PVarrayGen|WattsGenerated|5082.0| 1/10/2021 11:59|\n",
      "|220028|       PVarrayGen|WattsGenerated|5082.0| 1/10/2021 11:59|\n",
      "|141908|       PVarrayGen|WattsGenerated|5080.0|25/09/2021 11:34|\n",
      "|220036|       PVarrayGen|WattsGenerated|5080.0| 1/10/2021 11:59|\n",
      "|141896|       PVarrayGen|WattsGenerated|5080.0|25/09/2021 11:33|\n",
      "|141864|       PVarrayGen|WattsGenerated|5078.0|25/09/2021 11:31|\n",
      "|219532|       PVarrayGen|WattsGenerated|5078.0| 1/10/2021 11:29|\n",
      "|219692|       PVarrayGen|WattsGenerated|5078.0| 1/10/2021 11:39|\n",
      "|141792|       PVarrayGen|WattsGenerated|5078.0|25/09/2021 11:27|\n",
      "|290992|       PVarrayGen|WattsGenerated|5078.0| 4/10/2021 11:47|\n",
      "| 46184|       PVarrayGen|WattsGenerated|5078.0|21/09/2021 11:51|\n",
      "|141668|       PVarrayGen|WattsGenerated|5077.0|25/09/2021 11:19|\n",
      "|  2656|       PVarrayGen|WattsGenerated|5076.0|19/09/2021 15:15|\n",
      "| 46128|       PVarrayGen|WattsGenerated|5076.0|21/09/2021 11:48|\n",
      "|141788|       PVarrayGen|WattsGenerated|5076.0|25/09/2021 11:27|\n",
      "|141892|       PVarrayGen|WattsGenerated|5076.0|25/09/2021 11:33|\n",
      "+------+-----------------+--------------+------+----------------+\n",
      "only showing top 20 rows\n",
      "\n"
     ]
    },
    {
     "name": "stderr",
     "output_type": "stream",
     "text": [
      "\r",
      "                                                                                \r"
     ]
    }
   ],
   "source": [
    "dfGen.orderBy(dfGen.Value.desc()).show()"
   ]
  },
  {
   "cell_type": "code",
   "execution_count": 12,
   "id": "9f74141c",
   "metadata": {},
   "outputs": [
    {
     "name": "stderr",
     "output_type": "stream",
     "text": [
      "                                                                                \r"
     ]
    },
    {
     "data": {
      "text/plain": [
       "6"
      ]
     },
     "execution_count": 12,
     "metadata": {},
     "output_type": "execute_result"
    }
   ],
   "source": [
    "dfGen.filter(dfGen.Value > 5080).count()"
   ]
  },
  {
   "cell_type": "code",
   "execution_count": 13,
   "id": "457bf48d",
   "metadata": {},
   "outputs": [
    {
     "name": "stdout",
     "output_type": "stream",
     "text": [
      "+-----+-----------------+--------------+------+----------------+\n",
      "|   id|IOTSensorlocation|   Measurement| Value|        readDate|\n",
      "+-----+-----------------+--------------+------+----------------+\n",
      "| 2656|       PVarrayGen|WattsGenerated|5076.0|19/09/2021 15:15|\n",
      "| 2668|       PVarrayGen|WattsGenerated|5002.0|19/09/2021 15:16|\n",
      "|21176|       PVarrayGen|WattsGenerated|5044.0|20/09/2021 10:40|\n",
      "|21272|       PVarrayGen|WattsGenerated|5001.0|20/09/2021 10:46|\n",
      "|21288|       PVarrayGen|WattsGenerated|5004.0|20/09/2021 10:47|\n",
      "|21300|       PVarrayGen|WattsGenerated|5006.0|20/09/2021 10:48|\n",
      "|21304|       PVarrayGen|WattsGenerated|5026.0|20/09/2021 10:48|\n",
      "|21308|       PVarrayGen|WattsGenerated|5005.0|20/09/2021 10:48|\n",
      "|21312|       PVarrayGen|WattsGenerated|5004.0|20/09/2021 10:49|\n",
      "|21344|       PVarrayGen|WattsGenerated|5002.0|20/09/2021 10:51|\n",
      "|21348|       PVarrayGen|WattsGenerated|5008.0|20/09/2021 10:51|\n",
      "|21356|       PVarrayGen|WattsGenerated|5002.0|20/09/2021 10:51|\n",
      "|21632|       PVarrayGen|WattsGenerated|5023.0|20/09/2021 11:08|\n",
      "|21640|       PVarrayGen|WattsGenerated|5026.0|20/09/2021 11:09|\n",
      "|21660|       PVarrayGen|WattsGenerated|5030.0|20/09/2021 11:10|\n",
      "|21664|       PVarrayGen|WattsGenerated|5006.0|20/09/2021 11:10|\n",
      "|21668|       PVarrayGen|WattsGenerated|5008.0|20/09/2021 11:10|\n",
      "|21672|       PVarrayGen|WattsGenerated|5002.0|20/09/2021 11:10|\n",
      "|21676|       PVarrayGen|WattsGenerated|5010.0|20/09/2021 11:11|\n",
      "|21708|       PVarrayGen|WattsGenerated|5010.0|20/09/2021 11:13|\n",
      "+-----+-----------------+--------------+------+----------------+\n",
      "only showing top 20 rows\n",
      "\n"
     ]
    }
   ],
   "source": [
    "df.filter((df.Measurement =='WattsGenerated') & (df.Value > 5000)).show() # && (df.Value > 5000)).show()"
   ]
  },
  {
   "cell_type": "code",
   "execution_count": 14,
   "id": "cdadf69b",
   "metadata": {},
   "outputs": [],
   "source": [
    "# activity : find distinct the dates that > 5Kw was generated before 11:00am"
   ]
  },
  {
   "cell_type": "code",
   "execution_count": 15,
   "id": "e505b422",
   "metadata": {},
   "outputs": [],
   "source": [
    "# SQL queries"
   ]
  },
  {
   "cell_type": "code",
   "execution_count": 16,
   "id": "09b3b59b",
   "metadata": {},
   "outputs": [],
   "source": [
    "df.createOrReplaceTempView(\"solar\")"
   ]
  },
  {
   "cell_type": "code",
   "execution_count": 17,
   "id": "0d556b14",
   "metadata": {
    "scrolled": true
   },
   "outputs": [
    {
     "name": "stderr",
     "output_type": "stream",
     "text": [
      "\r",
      "[Stage 13:>                                                         (0 + 1) / 1]\r"
     ]
    },
    {
     "name": "stdout",
     "output_type": "stream",
     "text": [
      "+--------------+------+----------------+\n",
      "|   Measurement| Value|        readDate|\n",
      "+--------------+------+----------------+\n",
      "|WattsGenerated|5085.0|25/09/2021 11:39|\n",
      "|WattsGenerated|5084.0|25/09/2021 11:33|\n",
      "|WattsGenerated|5084.0|21/09/2021 11:48|\n",
      "|WattsGenerated|5082.0|25/09/2021 11:35|\n",
      "|WattsGenerated|5082.0| 1/10/2021 11:59|\n",
      "|WattsGenerated|5082.0| 1/10/2021 11:59|\n",
      "|WattsGenerated|5080.0|25/09/2021 11:34|\n",
      "|WattsGenerated|5080.0| 1/10/2021 11:59|\n",
      "|WattsGenerated|5080.0|25/09/2021 11:33|\n",
      "|WattsGenerated|5078.0|25/09/2021 11:31|\n",
      "|WattsGenerated|5078.0| 1/10/2021 11:29|\n",
      "|WattsGenerated|5078.0| 1/10/2021 11:39|\n",
      "|WattsGenerated|5078.0|25/09/2021 11:27|\n",
      "|WattsGenerated|5078.0| 4/10/2021 11:47|\n",
      "|WattsGenerated|5078.0|21/09/2021 11:51|\n",
      "|WattsGenerated|5077.0|25/09/2021 11:19|\n",
      "|WattsGenerated|5076.0|19/09/2021 15:15|\n",
      "|WattsGenerated|5076.0|21/09/2021 11:48|\n",
      "|WattsGenerated|5076.0|25/09/2021 11:27|\n",
      "|WattsGenerated|5076.0|25/09/2021 11:33|\n",
      "+--------------+------+----------------+\n",
      "only showing top 20 rows\n",
      "\n"
     ]
    },
    {
     "name": "stderr",
     "output_type": "stream",
     "text": [
      "\r",
      "                                                                                \r"
     ]
    }
   ],
   "source": [
    "sqlDF = spark.sql('select Measurement, Value, readDate from solar WHERE Measurement = \"WattsGenerated\" ORDER BY Value DESC')\n",
    "sqlDF.show()"
   ]
  },
  {
   "cell_type": "code",
   "execution_count": 18,
   "id": "51dd2c4f",
   "metadata": {},
   "outputs": [],
   "source": [
    "sql = 'select Measurement, Value, readDate , NTILE(5) OVER ( ORDER BY Value DESC) value_group from solar'"
   ]
  },
  {
   "cell_type": "code",
   "execution_count": 19,
   "id": "5be68e37",
   "metadata": {},
   "outputs": [
    {
     "name": "stderr",
     "output_type": "stream",
     "text": [
      "[Stage 15:>                                                         (0 + 1) / 1]\r"
     ]
    },
    {
     "name": "stdout",
     "output_type": "stream",
     "text": [
      "+------------+------+----------------+-----------+\n",
      "| Measurement| Value|        readDate|value_group|\n",
      "+------------+------+----------------+-----------+\n",
      "|WattsMetered|6489.0|29/09/2021 18:26|          1|\n",
      "|  WattsUsage|6489.0|29/09/2021 18:26|          1|\n",
      "|WattsMetered|6486.0|29/09/2021 18:23|          1|\n",
      "|  WattsUsage|6486.0|29/09/2021 18:23|          1|\n",
      "|WattsMetered|6480.0|29/09/2021 18:23|          1|\n",
      "|  WattsUsage|6480.0|29/09/2021 18:23|          1|\n",
      "|WattsMetered|6471.0|29/09/2021 18:26|          1|\n",
      "|  WattsUsage|6471.0|29/09/2021 18:26|          1|\n",
      "|WattsMetered|6469.0|29/09/2021 18:24|          1|\n",
      "|  WattsUsage|6469.0|29/09/2021 18:24|          1|\n",
      "|WattsMetered|6445.0|29/09/2021 18:25|          1|\n",
      "|  WattsUsage|6445.0|29/09/2021 18:25|          1|\n",
      "|WattsMetered|6439.0|29/09/2021 18:27|          1|\n",
      "|  WattsUsage|6439.0|29/09/2021 18:27|          1|\n",
      "|WattsMetered|6431.0|29/09/2021 18:24|          1|\n",
      "|  WattsUsage|6431.0|29/09/2021 18:24|          1|\n",
      "|WattsMetered|6424.0|29/09/2021 18:25|          1|\n",
      "|  WattsUsage|6424.0|29/09/2021 18:25|          1|\n",
      "|  WattsUsage|5325.0| 21/09/2021 7:21|          1|\n",
      "|  WattsUsage|5312.0| 21/09/2021 7:22|          1|\n",
      "+------------+------+----------------+-----------+\n",
      "only showing top 20 rows\n",
      "\n"
     ]
    },
    {
     "name": "stderr",
     "output_type": "stream",
     "text": [
      "\r",
      "                                                                                \r"
     ]
    }
   ],
   "source": [
    "sqlDF1 = spark.sql(sql)\n",
    "sqlDF1.show()"
   ]
  },
  {
   "cell_type": "code",
   "execution_count": 38,
   "id": "c33af5f5",
   "metadata": {},
   "outputs": [],
   "source": [
    "import pandas as pd\n",
    "from datetime import datetime\n",
    "import matplotlib.pyplot as plt"
   ]
  },
  {
   "cell_type": "code",
   "execution_count": 39,
   "id": "3784e41d",
   "metadata": {},
   "outputs": [
    {
     "name": "stderr",
     "output_type": "stream",
     "text": [
      "                                                                                \r"
     ]
    }
   ],
   "source": [
    "pdfGen = dfGen.toPandas()"
   ]
  },
  {
   "cell_type": "code",
   "execution_count": 40,
   "id": "deb6446e",
   "metadata": {},
   "outputs": [
    {
     "data": {
      "text/html": [
       "<div>\n",
       "<style scoped>\n",
       "    .dataframe tbody tr th:only-of-type {\n",
       "        vertical-align: middle;\n",
       "    }\n",
       "\n",
       "    .dataframe tbody tr th {\n",
       "        vertical-align: top;\n",
       "    }\n",
       "\n",
       "    .dataframe thead th {\n",
       "        text-align: right;\n",
       "    }\n",
       "</style>\n",
       "<table border=\"1\" class=\"dataframe\">\n",
       "  <thead>\n",
       "    <tr style=\"text-align: right;\">\n",
       "      <th></th>\n",
       "      <th>id</th>\n",
       "      <th>IOTSensorlocation</th>\n",
       "      <th>Measurement</th>\n",
       "      <th>Value</th>\n",
       "      <th>readDate</th>\n",
       "    </tr>\n",
       "  </thead>\n",
       "  <tbody>\n",
       "    <tr>\n",
       "      <th>0</th>\n",
       "      <td>488</td>\n",
       "      <td>PVarrayGen</td>\n",
       "      <td>WattsGenerated</td>\n",
       "      <td>0.0</td>\n",
       "      <td>18/09/2021 18:07</td>\n",
       "    </tr>\n",
       "    <tr>\n",
       "      <th>1</th>\n",
       "      <td>492</td>\n",
       "      <td>PVarrayGen</td>\n",
       "      <td>WattsGenerated</td>\n",
       "      <td>0.0</td>\n",
       "      <td>18/09/2021 18:07</td>\n",
       "    </tr>\n",
       "    <tr>\n",
       "      <th>2</th>\n",
       "      <td>496</td>\n",
       "      <td>PVarrayGen</td>\n",
       "      <td>WattsGenerated</td>\n",
       "      <td>0.0</td>\n",
       "      <td>18/09/2021 18:07</td>\n",
       "    </tr>\n",
       "    <tr>\n",
       "      <th>3</th>\n",
       "      <td>500</td>\n",
       "      <td>PVarrayGen</td>\n",
       "      <td>WattsGenerated</td>\n",
       "      <td>0.0</td>\n",
       "      <td>18/09/2021 18:08</td>\n",
       "    </tr>\n",
       "    <tr>\n",
       "      <th>4</th>\n",
       "      <td>504</td>\n",
       "      <td>PVarrayGen</td>\n",
       "      <td>WattsGenerated</td>\n",
       "      <td>0.0</td>\n",
       "      <td>18/09/2021 18:08</td>\n",
       "    </tr>\n",
       "    <tr>\n",
       "      <th>...</th>\n",
       "      <td>...</td>\n",
       "      <td>...</td>\n",
       "      <td>...</td>\n",
       "      <td>...</td>\n",
       "      <td>...</td>\n",
       "    </tr>\n",
       "    <tr>\n",
       "      <th>104943</th>\n",
       "      <td>420261</td>\n",
       "      <td>PVarrayGen</td>\n",
       "      <td>WattsGenerated</td>\n",
       "      <td>4802.0</td>\n",
       "      <td>10/10/2021 11:25</td>\n",
       "    </tr>\n",
       "    <tr>\n",
       "      <th>104944</th>\n",
       "      <td>420265</td>\n",
       "      <td>PVarrayGen</td>\n",
       "      <td>WattsGenerated</td>\n",
       "      <td>4810.0</td>\n",
       "      <td>10/10/2021 11:25</td>\n",
       "    </tr>\n",
       "    <tr>\n",
       "      <th>104945</th>\n",
       "      <td>420269</td>\n",
       "      <td>PVarrayGen</td>\n",
       "      <td>WattsGenerated</td>\n",
       "      <td>4846.0</td>\n",
       "      <td>10/10/2021 11:26</td>\n",
       "    </tr>\n",
       "    <tr>\n",
       "      <th>104946</th>\n",
       "      <td>420273</td>\n",
       "      <td>PVarrayGen</td>\n",
       "      <td>WattsGenerated</td>\n",
       "      <td>4866.0</td>\n",
       "      <td>10/10/2021 11:26</td>\n",
       "    </tr>\n",
       "    <tr>\n",
       "      <th>104947</th>\n",
       "      <td>420277</td>\n",
       "      <td>PVarrayGen</td>\n",
       "      <td>WattsGenerated</td>\n",
       "      <td>1127.0</td>\n",
       "      <td>21/10/2021 8:45</td>\n",
       "    </tr>\n",
       "  </tbody>\n",
       "</table>\n",
       "<p>104948 rows × 5 columns</p>\n",
       "</div>"
      ],
      "text/plain": [
       "            id IOTSensorlocation     Measurement   Value          readDate\n",
       "0          488        PVarrayGen  WattsGenerated     0.0  18/09/2021 18:07\n",
       "1          492        PVarrayGen  WattsGenerated     0.0  18/09/2021 18:07\n",
       "2          496        PVarrayGen  WattsGenerated     0.0  18/09/2021 18:07\n",
       "3          500        PVarrayGen  WattsGenerated     0.0  18/09/2021 18:08\n",
       "4          504        PVarrayGen  WattsGenerated     0.0  18/09/2021 18:08\n",
       "...        ...               ...             ...     ...               ...\n",
       "104943  420261        PVarrayGen  WattsGenerated  4802.0  10/10/2021 11:25\n",
       "104944  420265        PVarrayGen  WattsGenerated  4810.0  10/10/2021 11:25\n",
       "104945  420269        PVarrayGen  WattsGenerated  4846.0  10/10/2021 11:26\n",
       "104946  420273        PVarrayGen  WattsGenerated  4866.0  10/10/2021 11:26\n",
       "104947  420277        PVarrayGen  WattsGenerated  1127.0   21/10/2021 8:45\n",
       "\n",
       "[104948 rows x 5 columns]"
      ]
     },
     "execution_count": 40,
     "metadata": {},
     "output_type": "execute_result"
    }
   ],
   "source": [
    "pdfGen"
   ]
  },
  {
   "cell_type": "code",
   "execution_count": 43,
   "id": "254ccd3b",
   "metadata": {},
   "outputs": [],
   "source": []
  },
  {
   "cell_type": "code",
   "execution_count": 41,
   "id": "8f011eb2",
   "metadata": {},
   "outputs": [],
   "source": [
    "pdfGen['readDate'] = pd.to_datetime(pdfGen['readDate'],dayfirst=True)\n",
    "now  = datetime.now()\n",
    "dateMask = (pdfGen['readDate'] > '20/09/2021 15:00') & (pdfGen['readDate'] < now)  # '08/08/2021')\n",
    "pdfGen=pdfGen.loc[dateMask]"
   ]
  },
  {
   "cell_type": "code",
   "execution_count": 44,
   "id": "6c1b23fe",
   "metadata": {},
   "outputs": [
    {
     "data": {
      "image/png": "[encoded data removed]",
      "text/plain": [
       "<Figure size 720x720 with 1 Axes>"
      ]
     },
     "metadata": {
      "needs_background": "light"
     },
     "output_type": "display_data"
    }
   ],
   "source": [
    "fig,ax = plt.subplots(figsize=(10, 10))\n",
    "ax.plot(pdfGen['readDate'],pdfGen['Value'], color='red')\n",
    "ax.set(xlabel=\"Date\",\n",
    "       ylabel=\"Measurement\",\n",
    "       title=\"Measurement of generation to date\")\n",
    "plt.show()"
   ]
  },
  {
   "cell_type": "code",
   "execution_count": null,
   "id": "73af1130",
   "metadata": {},
   "outputs": [],
   "source": []
  },
  {
   "cell_type": "code",
   "execution_count": 45,
   "id": "5e9d5bae",
   "metadata": {},
   "outputs": [],
   "source": [
    "spark.stop()"
   ]
  },
  {
   "cell_type": "code",
   "execution_count": null,
   "id": "0507523e",
   "metadata": {},
   "outputs": [],
   "source": []
  },
  {
   "cell_type": "code",
   "execution_count": null,
   "id": "cd1bdee4",
   "metadata": {},
   "outputs": [],
   "source": []
  },
  {
   "cell_type": "code",
   "execution_count": null,
   "id": "1786f133",
   "metadata": {},
   "outputs": [],
   "source": []
  },
  {
   "cell_type": "code",
   "execution_count": null,
   "id": "b89de294",
   "metadata": {},
   "outputs": [],
   "source": []
  },
  {
   "cell_type": "markdown",
   "id": "f73d1f17",
   "metadata": {},
   "source": [
    "# Running SQL Queries Programmatically"
   ]
  },
  {
   "cell_type": "code",
   "execution_count": null,
   "id": "52fea8a6",
   "metadata": {},
   "outputs": [],
   "source": [
    "\n"
   ]
  },
  {
   "cell_type": "code",
   "execution_count": null,
   "id": "c6ee9f44",
   "metadata": {},
   "outputs": [],
   "source": []
  },
  {
   "cell_type": "code",
   "execution_count": null,
   "id": "1c34cc91",
   "metadata": {},
   "outputs": [],
   "source": [
    "# http://localhost:4040/environment/"
   ]
  },
  {
   "cell_type": "code",
   "execution_count": 15,
   "id": "b7ca9813",
   "metadata": {},
   "outputs": [],
   "source": [
    "spark.stop()"
   ]
  },
  {
   "cell_type": "code",
   "execution_count": null,
   "id": "64e038ac",
   "metadata": {},
   "outputs": [],
   "source": []
  }
 ],
 "metadata": {
  "kernelspec": {
   "display_name": "Python 3 (ipykernel)",
   "language": "python",
   "name": "python3"
  },
  "language_info": {
   "codemirror_mode": {
    "name": "ipython",
    "version": 3
   },
   "file_extension": ".py",
   "mimetype": "text/x-python",
   "name": "python",
   "nbconvert_exporter": "python",
   "pygments_lexer": "ipython3",
   "version": "3.8.10"
  }
 },
 "nbformat": 4,
 "nbformat_minor": 5
}
