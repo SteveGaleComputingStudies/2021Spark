{
 "cells": [
  {
   "cell_type": "code",
   "execution_count": 30,
   "id": "17a029a7",
   "metadata": {},
   "outputs": [],
   "source": [
    "import findspark  \n",
    "findspark.init()  \n",
    "# run spark from jupyter notebook"
   ]
  },
  {
   "cell_type": "code",
   "execution_count": 31,
   "id": "3992fc5d",
   "metadata": {},
   "outputs": [],
   "source": [
    "from pyspark.sql import SparkSession\n",
    "\n",
    "spark = SparkSession \\\n",
    "    .builder \\\n",
    "    .appName(\"Python Spark SQL basic example\") \\\n",
    "    .config(\"spark.some.config.option\", \"some-value\") \\\n",
    "    .getOrCreate()"
   ]
  },
  {
   "cell_type": "code",
   "execution_count": 32,
   "id": "911017be",
   "metadata": {},
   "outputs": [
    {
     "name": "stderr",
     "output_type": "stream",
     "text": [
      "                                                                                \r"
     ]
    }
   ],
   "source": [
    "df = spark.read.csv(\"sgHomeSolarData -211021.csv\", inferSchema = True, header = True)"
   ]
  },
  {
   "cell_type": "code",
   "execution_count": 33,
   "id": "6511969a",
   "metadata": {},
   "outputs": [
    {
     "name": "stdout",
     "output_type": "stream",
     "text": [
      "+---+-----------------+--------------+-----+----------------+\n",
      "| id|IOTSensorlocation|   Measurement|Value|        readDate|\n",
      "+---+-----------------+--------------+-----+----------------+\n",
      "|  1|         13111111|   Temperature| 21.6|14/09/2021 15:39|\n",
      "|  2|         13111111|   Temperature| 24.0|14/09/2021 16:40|\n",
      "|  3|         13111111|   Temperature| 24.0|14/09/2021 16:55|\n",
      "|  4|         13111111|   Temperature| 24.0|14/09/2021 16:56|\n",
      "|  5|         13111111|   Temperature| 24.0|14/09/2021 16:56|\n",
      "|  6|         13111111|   Temperature| 24.0|14/09/2021 16:57|\n",
      "|  7|         13111111|   Temperature| 24.0|14/09/2021 17:01|\n",
      "|  8|         13111111|   Temperature| 24.0|14/09/2021 17:02|\n",
      "|  9|         13111111|   Temperature| 21.6|14/09/2021 17:07|\n",
      "| 10|         13111111|   Temperature| 21.6|14/09/2021 17:09|\n",
      "| 11|   UpstairsAircon|   Temperature| 18.0|18/09/2021 17:37|\n",
      "| 12|       PVarrayGen|WattsGenetated|218.0|18/09/2021 17:37|\n",
      "| 13|       HouseUsage|  WattsMetered|  8.0|18/09/2021 17:37|\n",
      "| 14|       HouseUsage|    WattsUsage|226.0|18/09/2021 17:37|\n",
      "| 15|   UpstairsAircon|   Temperature| 18.0|18/09/2021 17:37|\n",
      "| 16|       PVarrayGen|WattsGenetated|216.0|18/09/2021 17:37|\n",
      "| 17|       HouseUsage|  WattsMetered| 14.0|18/09/2021 17:37|\n",
      "| 18|       HouseUsage|    WattsUsage|230.0|18/09/2021 17:37|\n",
      "| 19|   UpstairsAircon|   Temperature| 18.0|18/09/2021 17:37|\n",
      "| 20|       PVarrayGen|WattsGenetated|212.0|18/09/2021 17:37|\n",
      "+---+-----------------+--------------+-----+----------------+\n",
      "only showing top 20 rows\n",
      "\n"
     ]
    }
   ],
   "source": [
    "df.show()"
   ]
  },
  {
   "cell_type": "code",
   "execution_count": 34,
   "id": "dd892b80",
   "metadata": {},
   "outputs": [
    {
     "name": "stdout",
     "output_type": "stream",
     "text": [
      "root\n",
      " |-- id: integer (nullable = true)\n",
      " |-- IOTSensorlocation: string (nullable = true)\n",
      " |-- Measurement: string (nullable = true)\n",
      " |-- Value: double (nullable = true)\n",
      " |-- readDate: string (nullable = true)\n",
      "\n"
     ]
    }
   ],
   "source": [
    "df.printSchema()"
   ]
  },
  {
   "cell_type": "code",
   "execution_count": 35,
   "id": "6115c0a1",
   "metadata": {},
   "outputs": [
    {
     "name": "stderr",
     "output_type": "stream",
     "text": [
      "\r",
      "[Stage 3:>                                                          (0 + 1) / 1]\r",
      "\r",
      "                                                                                \r"
     ]
    },
    {
     "data": {
      "text/plain": [
       "420279"
      ]
     },
     "execution_count": 35,
     "metadata": {},
     "output_type": "execute_result"
    }
   ],
   "source": [
    "df.count()"
   ]
  },
  {
   "cell_type": "code",
   "execution_count": 36,
   "id": "464b25c6",
   "metadata": {},
   "outputs": [
    {
     "name": "stderr",
     "output_type": "stream",
     "text": [
      "\r",
      "[Stage 5:>                                                          (0 + 1) / 1]\r",
      "\r",
      "                                                                                \r"
     ]
    },
    {
     "name": "stdout",
     "output_type": "stream",
     "text": [
      "+-------+------------------+\n",
      "|summary|             Value|\n",
      "+-------+------------------+\n",
      "|  count|            105078|\n",
      "|   mean|17.711389634366853|\n",
      "| stddev| 1.718113504500662|\n",
      "|    min|              12.0|\n",
      "|    max|              24.0|\n",
      "+-------+------------------+\n",
      "\n"
     ]
    }
   ],
   "source": [
    "dfTemp = df.filter(df.Measurement =='Temperature')\n",
    "dfTemp.describe('Value').show()"
   ]
  },
  {
   "cell_type": "code",
   "execution_count": 38,
   "id": "d6589b79",
   "metadata": {},
   "outputs": [
    {
     "name": "stderr",
     "output_type": "stream",
     "text": [
      "\r",
      "[Stage 7:>                                                          (0 + 1) / 1]\r"
     ]
    },
    {
     "name": "stdout",
     "output_type": "stream",
     "text": [
      "+---+-----------------+--------------+-----+----------------+\n",
      "| id|IOTSensorlocation|   Measurement|Value|        readDate|\n",
      "+---+-----------------+--------------+-----+----------------+\n",
      "|120|       PVarrayGen|WattsGenetated| -1.0|18/09/2021 17:43|\n",
      "|240|       PVarrayGen|WattsGenetated| -1.0|18/09/2021 17:51|\n",
      "|472|       PVarrayGen|WattsGenetated|  0.0|18/09/2021 18:05|\n",
      "|484|       PVarrayGen|WattsGenetated|  0.0|18/09/2021 18:05|\n",
      "|476|       PVarrayGen|WattsGenetated|  0.0|18/09/2021 18:05|\n",
      "|480|       PVarrayGen|WattsGenetated|  0.0|18/09/2021 18:05|\n",
      "|468|       PVarrayGen|WattsGenetated|  2.0|18/09/2021 18:04|\n",
      "|464|       PVarrayGen|WattsGenetated|  6.0|18/09/2021 18:04|\n",
      "|460|       PVarrayGen|WattsGenetated|  8.0|18/09/2021 18:04|\n",
      "|456|       PVarrayGen|WattsGenetated| 10.0|18/09/2021 18:04|\n",
      "|452|       PVarrayGen|WattsGenetated| 18.0|18/09/2021 18:03|\n",
      "|448|       PVarrayGen|WattsGenetated| 23.0|18/09/2021 18:03|\n",
      "|444|       PVarrayGen|WattsGenetated| 28.0|18/09/2021 18:03|\n",
      "|440|       PVarrayGen|WattsGenetated| 34.0|18/09/2021 18:03|\n",
      "|436|       PVarrayGen|WattsGenetated| 38.0|18/09/2021 18:02|\n",
      "|428|       PVarrayGen|WattsGenetated| 42.0|18/09/2021 18:02|\n",
      "|432|       PVarrayGen|WattsGenetated| 42.0|18/09/2021 18:02|\n",
      "|424|       PVarrayGen|WattsGenetated| 44.0|18/09/2021 18:02|\n",
      "|412|       PVarrayGen|WattsGenetated| 44.0|18/09/2021 18:01|\n",
      "|420|       PVarrayGen|WattsGenetated| 44.0|18/09/2021 18:01|\n",
      "+---+-----------------+--------------+-----+----------------+\n",
      "only showing top 20 rows\n",
      "\n"
     ]
    },
    {
     "name": "stderr",
     "output_type": "stream",
     "text": [
      "\r",
      "                                                                                \r"
     ]
    }
   ],
   "source": [
    "\n",
    "dfGen = df.filter(df.Measurement =='WattsGenetated')\n",
    "dfGen.orderBy(dfGen.Value).show()"
   ]
  },
  {
   "cell_type": "code",
   "execution_count": 29,
   "id": "5e9d5bae",
   "metadata": {},
   "outputs": [],
   "source": [
    "spark.stop()"
   ]
  },
  {
   "cell_type": "code",
   "execution_count": 9,
   "id": "0507523e",
   "metadata": {},
   "outputs": [
    {
     "name": "stdout",
     "output_type": "stream",
     "text": [
      "+-------+\n",
      "|   name|\n",
      "+-------+\n",
      "|Michael|\n",
      "|   Andy|\n",
      "| Justin|\n",
      "+-------+\n",
      "\n"
     ]
    }
   ],
   "source": [
    "# Select only the \"name\" column\n",
    "dfName = df.select(\"name\")\n",
    "dfName.show()"
   ]
  },
  {
   "cell_type": "code",
   "execution_count": 10,
   "id": "cd1bdee4",
   "metadata": {},
   "outputs": [
    {
     "name": "stdout",
     "output_type": "stream",
     "text": [
      "+-------+---------+\n",
      "|   name|(age + 1)|\n",
      "+-------+---------+\n",
      "|Michael|     null|\n",
      "|   Andy|       31|\n",
      "| Justin|       20|\n",
      "+-------+---------+\n",
      "\n"
     ]
    }
   ],
   "source": [
    "# Select everybody, but increment the age by 1\n",
    "df.select(df['name'], df['age'] + 1).show()"
   ]
  },
  {
   "cell_type": "code",
   "execution_count": 11,
   "id": "1786f133",
   "metadata": {},
   "outputs": [
    {
     "name": "stdout",
     "output_type": "stream",
     "text": [
      "+---+----+\n",
      "|age|name|\n",
      "+---+----+\n",
      "| 30|Andy|\n",
      "+---+----+\n",
      "\n"
     ]
    }
   ],
   "source": [
    "# Select people older than 21\n",
    "dfOld = df.filter(df['age'] > 21)\n",
    "dfOld.show()"
   ]
  },
  {
   "cell_type": "code",
   "execution_count": 12,
   "id": "b89de294",
   "metadata": {},
   "outputs": [
    {
     "name": "stderr",
     "output_type": "stream",
     "text": [
      "[Stage 15:==========================================>             (57 + 1) / 75]\r"
     ]
    },
    {
     "name": "stdout",
     "output_type": "stream",
     "text": [
      "+----+-----+\n",
      "| age|count|\n",
      "+----+-----+\n",
      "|  19|    1|\n",
      "|null|    1|\n",
      "|  30|    1|\n",
      "+----+-----+\n",
      "\n"
     ]
    },
    {
     "name": "stderr",
     "output_type": "stream",
     "text": [
      "\r",
      "[Stage 15:=================================================>      (66 + 1) / 75]\r",
      "\r",
      "                                                                                \r"
     ]
    }
   ],
   "source": [
    "# Count people by age\n",
    "df.groupBy(\"age\").count().show()"
   ]
  },
  {
   "cell_type": "markdown",
   "id": "f73d1f17",
   "metadata": {},
   "source": [
    "# Running SQL Queries Programmatically"
   ]
  },
  {
   "cell_type": "code",
   "execution_count": 13,
   "id": "52fea8a6",
   "metadata": {},
   "outputs": [
    {
     "name": "stdout",
     "output_type": "stream",
     "text": [
      "+----+-------+\n",
      "| age|   name|\n",
      "+----+-------+\n",
      "|null|Michael|\n",
      "|  30|   Andy|\n",
      "|  19| Justin|\n",
      "+----+-------+\n",
      "\n"
     ]
    }
   ],
   "source": [
    "# Register the DataFrame as a SQL temporary view\n",
    "df.createOrReplaceTempView(\"people\")\n",
    "\n",
    "sqlDF = spark.sql(\"SELECT * FROM people\")\n",
    "sqlDF.show()"
   ]
  },
  {
   "cell_type": "code",
   "execution_count": 14,
   "id": "c6ee9f44",
   "metadata": {},
   "outputs": [
    {
     "name": "stdout",
     "output_type": "stream",
     "text": [
      "+----+-------+\n",
      "| age|   name|\n",
      "+----+-------+\n",
      "|null|Michael|\n",
      "|  30|   Andy|\n",
      "|  19| Justin|\n",
      "+----+-------+\n",
      "\n"
     ]
    }
   ],
   "source": [
    "# Register the DataFrame as a global temporary view\n",
    "df.createGlobalTempView(\"people\")\n",
    "\n",
    "# Global temporary view is tied to a system preserved database `global_temp`\n",
    "spark.sql(\"SELECT * FROM global_temp.people\").show()"
   ]
  },
  {
   "cell_type": "code",
   "execution_count": null,
   "id": "1c34cc91",
   "metadata": {},
   "outputs": [],
   "source": [
    "# http://localhost:4040/environment/"
   ]
  },
  {
   "cell_type": "code",
   "execution_count": 15,
   "id": "b7ca9813",
   "metadata": {},
   "outputs": [],
   "source": [
    "spark.stop()"
   ]
  },
  {
   "cell_type": "code",
   "execution_count": null,
   "id": "64e038ac",
   "metadata": {},
   "outputs": [],
   "source": []
  }
 ],
 "metadata": {
  "kernelspec": {
   "display_name": "Python 3 (ipykernel)",
   "language": "python",
   "name": "python3"
  },
  "language_info": {
   "codemirror_mode": {
    "name": "ipython",
    "version": 3
   },
   "file_extension": ".py",
   "mimetype": "text/x-python",
   "name": "python",
   "nbconvert_exporter": "python",
   "pygments_lexer": "ipython3",
   "version": "3.8.10"
  }
 },
 "nbformat": 4,
 "nbformat_minor": 5
}
