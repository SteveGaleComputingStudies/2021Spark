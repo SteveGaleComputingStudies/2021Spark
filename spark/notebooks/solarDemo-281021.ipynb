{
 "cells": [
  {
   "cell_type": "code",
   "execution_count": 60,
   "id": "400e2c14",
   "metadata": {},
   "outputs": [],
   "source": [
    "import findspark\n",
    "findspark.init()"
   ]
  },
  {
   "cell_type": "code",
   "execution_count": 61,
   "id": "48944855",
   "metadata": {},
   "outputs": [],
   "source": [
    "from pyspark.sql import SparkSession\n",
    "\n",
    "spark = SparkSession \\\n",
    "    .builder \\\n",
    "    .appName(\"Python Spark SQL basic example\") \\\n",
    "    .config(\"spark.some.config.option\", \"some-value\") \\\n",
    "    .getOrCreate()"
   ]
  },
  {
   "cell_type": "code",
   "execution_count": 62,
   "id": "406006ca",
   "metadata": {},
   "outputs": [
    {
     "name": "stderr",
     "output_type": "stream",
     "text": [
      "                                                                                \r"
     ]
    },
    {
     "name": "stdout",
     "output_type": "stream",
     "text": [
      "+---+-----------------+--------------+-----+----------------+\n",
      "| id|IOTSensorlocation|   Measurement|Value|        readDate|\n",
      "+---+-----------------+--------------+-----+----------------+\n",
      "|  1|         13111111|   Temperature| 21.6|14/09/2021 15:39|\n",
      "|  2|         13111111|   Temperature| 24.0|14/09/2021 16:40|\n",
      "|  3|         13111111|   Temperature| 24.0|14/09/2021 16:55|\n",
      "|  4|         13111111|   Temperature| 24.0|14/09/2021 16:56|\n",
      "|  5|         13111111|   Temperature| 24.0|14/09/2021 16:56|\n",
      "|  6|         13111111|   Temperature| 24.0|14/09/2021 16:57|\n",
      "|  7|         13111111|   Temperature| 24.0|14/09/2021 17:01|\n",
      "|  8|         13111111|   Temperature| 24.0|14/09/2021 17:02|\n",
      "|  9|         13111111|   Temperature| 21.6|14/09/2021 17:07|\n",
      "| 10|         13111111|   Temperature| 21.6|14/09/2021 17:09|\n",
      "| 11|   UpstairsAircon|   Temperature| 18.0|18/09/2021 17:37|\n",
      "| 12|       PVarrayGen|WattsGenetated|218.0|18/09/2021 17:37|\n",
      "| 13|       HouseUsage|  WattsMetered|  8.0|18/09/2021 17:37|\n",
      "| 14|       HouseUsage|    WattsUsage|226.0|18/09/2021 17:37|\n",
      "| 15|   UpstairsAircon|   Temperature| 18.0|18/09/2021 17:37|\n",
      "| 16|       PVarrayGen|WattsGenetated|216.0|18/09/2021 17:37|\n",
      "| 17|       HouseUsage|  WattsMetered| 14.0|18/09/2021 17:37|\n",
      "| 18|       HouseUsage|    WattsUsage|230.0|18/09/2021 17:37|\n",
      "| 19|   UpstairsAircon|   Temperature| 18.0|18/09/2021 17:37|\n",
      "| 20|       PVarrayGen|WattsGenetated|212.0|18/09/2021 17:37|\n",
      "+---+-----------------+--------------+-----+----------------+\n",
      "only showing top 20 rows\n",
      "\n"
     ]
    }
   ],
   "source": [
    "df = spark.read.csv(\"sgHomeSolarData -211021.csv\", inferSchema = True, header = True)\n",
    "\n",
    "df.show()"
   ]
  },
  {
   "cell_type": "code",
   "execution_count": 64,
   "id": "4c423833",
   "metadata": {},
   "outputs": [
    {
     "name": "stdout",
     "output_type": "stream",
     "text": [
      "root\n",
      " |-- id: integer (nullable = true)\n",
      " |-- IOTSensorlocation: string (nullable = true)\n",
      " |-- Measurement: string (nullable = true)\n",
      " |-- Value: double (nullable = true)\n",
      " |-- readDate: string (nullable = true)\n",
      "\n"
     ]
    }
   ],
   "source": [
    "df.printSchema()"
   ]
  },
  {
   "cell_type": "code",
   "execution_count": 66,
   "id": "89ee9fc0",
   "metadata": {},
   "outputs": [
    {
     "data": {
      "text/plain": [
       "420279"
      ]
     },
     "execution_count": 66,
     "metadata": {},
     "output_type": "execute_result"
    }
   ],
   "source": [
    "df.count()"
   ]
  },
  {
   "cell_type": "code",
   "execution_count": 67,
   "id": "fa6df1fa",
   "metadata": {},
   "outputs": [],
   "source": [
    "dfF1 = df.filter(df.IOTSensorlocation != \"13111111\") # remove 13111111"
   ]
  },
  {
   "cell_type": "code",
   "execution_count": 68,
   "id": "6be5cccc",
   "metadata": {},
   "outputs": [],
   "source": [
    "dfF2 = dfF1.filter(dfF1.Value > 0) # remove -1"
   ]
  },
  {
   "cell_type": "code",
   "execution_count": 69,
   "id": "fed86239",
   "metadata": {},
   "outputs": [],
   "source": [
    "dfF3 = dfF2.filter(dfF2.Measurement != \"WattsGenetated\") # remove Wattsgenetated"
   ]
  },
  {
   "cell_type": "code",
   "execution_count": 70,
   "id": "4d10ac1d",
   "metadata": {},
   "outputs": [],
   "source": [
    "dfTemp = dfF3.filter(dfF3.Measurement == \"Temperature\") # Include Temperature"
   ]
  },
  {
   "cell_type": "code",
   "execution_count": 71,
   "id": "0021bc8c",
   "metadata": {},
   "outputs": [
    {
     "data": {
      "text/plain": [
       "Row(id=11, IOTSensorlocation='UpstairsAircon', Measurement='Temperature', Value=18.0, readDate='18/09/2021 17:37')"
      ]
     },
     "execution_count": 71,
     "metadata": {},
     "output_type": "execute_result"
    }
   ],
   "source": [
    "dfTemp.head()"
   ]
  },
  {
   "cell_type": "code",
   "execution_count": 73,
   "id": "4bcc3ba8",
   "metadata": {},
   "outputs": [
    {
     "name": "stderr",
     "output_type": "stream",
     "text": [
      "\r",
      "[Stage 10:>                                                         (0 + 1) / 1]\r"
     ]
    },
    {
     "name": "stdout",
     "output_type": "stream",
     "text": [
      "+-------+------------------+\n",
      "|summary|             Value|\n",
      "+-------+------------------+\n",
      "|  count|            105067|\n",
      "|   mean|17.710822617948548|\n",
      "| stddev|1.7172688415622126|\n",
      "|    min|              12.0|\n",
      "|    max|              21.5|\n",
      "+-------+------------------+\n",
      "\n"
     ]
    },
    {
     "name": "stderr",
     "output_type": "stream",
     "text": [
      "\r",
      "                                                                                \r"
     ]
    }
   ],
   "source": [
    "dfTemp.describe('Value').show()"
   ]
  },
  {
   "cell_type": "code",
   "execution_count": 74,
   "id": "2a4384e3",
   "metadata": {},
   "outputs": [
    {
     "name": "stderr",
     "output_type": "stream",
     "text": [
      "\r",
      "[Stage 12:>                                                         (0 + 1) / 1]\r"
     ]
    },
    {
     "name": "stdout",
     "output_type": "stream",
     "text": [
      "+------+-----------------+--------------+------+----------------+\n",
      "|    id|IOTSensorlocation|   Measurement| Value|        readDate|\n",
      "+------+-----------------+--------------+------+----------------+\n",
      "|141996|       PVarrayGen|WattsGenerated|5085.0|25/09/2021 11:39|\n",
      "|141888|       PVarrayGen|WattsGenerated|5084.0|25/09/2021 11:33|\n",
      "| 46124|       PVarrayGen|WattsGenerated|5084.0|21/09/2021 11:48|\n",
      "|141920|       PVarrayGen|WattsGenerated|5082.0|25/09/2021 11:35|\n",
      "|220032|       PVarrayGen|WattsGenerated|5082.0| 1/10/2021 11:59|\n",
      "|220028|       PVarrayGen|WattsGenerated|5082.0| 1/10/2021 11:59|\n",
      "|141908|       PVarrayGen|WattsGenerated|5080.0|25/09/2021 11:34|\n",
      "|220036|       PVarrayGen|WattsGenerated|5080.0| 1/10/2021 11:59|\n",
      "|141896|       PVarrayGen|WattsGenerated|5080.0|25/09/2021 11:33|\n",
      "|141864|       PVarrayGen|WattsGenerated|5078.0|25/09/2021 11:31|\n",
      "|219532|       PVarrayGen|WattsGenerated|5078.0| 1/10/2021 11:29|\n",
      "|219692|       PVarrayGen|WattsGenerated|5078.0| 1/10/2021 11:39|\n",
      "|141792|       PVarrayGen|WattsGenerated|5078.0|25/09/2021 11:27|\n",
      "|290992|       PVarrayGen|WattsGenerated|5078.0| 4/10/2021 11:47|\n",
      "| 46184|       PVarrayGen|WattsGenerated|5078.0|21/09/2021 11:51|\n",
      "|141668|       PVarrayGen|WattsGenerated|5077.0|25/09/2021 11:19|\n",
      "|  2656|       PVarrayGen|WattsGenerated|5076.0|19/09/2021 15:15|\n",
      "| 46128|       PVarrayGen|WattsGenerated|5076.0|21/09/2021 11:48|\n",
      "|141788|       PVarrayGen|WattsGenerated|5076.0|25/09/2021 11:27|\n",
      "|141892|       PVarrayGen|WattsGenerated|5076.0|25/09/2021 11:33|\n",
      "+------+-----------------+--------------+------+----------------+\n",
      "only showing top 20 rows\n",
      "\n"
     ]
    },
    {
     "name": "stderr",
     "output_type": "stream",
     "text": [
      "\r",
      "                                                                                \r"
     ]
    }
   ],
   "source": [
    "dfGen = dfF3.filter(df.Measurement == \"WattsGenerated\")\n",
    "dfGen.orderBy(dfGen.Value.desc()).show() # .asc(), .desc()"
   ]
  },
  {
   "cell_type": "code",
   "execution_count": 76,
   "id": "5724b78f",
   "metadata": {},
   "outputs": [
    {
     "name": "stderr",
     "output_type": "stream",
     "text": [
      "                                                                                \r"
     ]
    },
    {
     "data": {
      "text/plain": [
       "9"
      ]
     },
     "execution_count": 76,
     "metadata": {},
     "output_type": "execute_result"
    }
   ],
   "source": [
    "dfGen.filter(dfGen.Value >= 5080).count()"
   ]
  },
  {
   "cell_type": "code",
   "execution_count": 77,
   "id": "e07e4a85",
   "metadata": {},
   "outputs": [
    {
     "name": "stderr",
     "output_type": "stream",
     "text": [
      "                                                                                \r"
     ]
    },
    {
     "data": {
      "text/plain": [
       "9"
      ]
     },
     "execution_count": 77,
     "metadata": {},
     "output_type": "execute_result"
    }
   ],
   "source": [
    "dfF3.filter((dfF3.Measurement == \"WattsGenerated\") & (dfF3.Value >= 5080)).count()"
   ]
  },
  {
   "cell_type": "code",
   "execution_count": 78,
   "id": "bb8da3e0",
   "metadata": {},
   "outputs": [
    {
     "name": "stdout",
     "output_type": "stream",
     "text": [
      "+------+----------------+\n",
      "| Value|        readDate|\n",
      "+------+----------------+\n",
      "|4560.0|19/09/2021 14:43|\n",
      "|4570.0|19/09/2021 14:43|\n",
      "|4396.0|19/09/2021 14:44|\n",
      "|4596.0|19/09/2021 14:44|\n",
      "|4432.0|19/09/2021 14:44|\n",
      "|4538.0|19/09/2021 14:44|\n",
      "|4556.0|19/09/2021 14:44|\n",
      "|4658.0|19/09/2021 14:45|\n",
      "|4744.0|19/09/2021 14:45|\n",
      "|4438.0|19/09/2021 14:45|\n",
      "|3970.0|19/09/2021 14:46|\n",
      "|3832.0|19/09/2021 14:46|\n",
      "|3526.0|19/09/2021 14:46|\n",
      "|3916.0|19/09/2021 14:46|\n",
      "|3312.0|19/09/2021 14:47|\n",
      "|3730.0|19/09/2021 14:47|\n",
      "|3944.0|19/09/2021 14:47|\n",
      "|4138.0|19/09/2021 14:48|\n",
      "|4080.0|19/09/2021 14:48|\n",
      "|3971.0|19/09/2021 14:48|\n",
      "+------+----------------+\n",
      "only showing top 20 rows\n",
      "\n"
     ]
    }
   ],
   "source": [
    "dfGenValDate = dfGen.select('Value','readDate')\n",
    "dfGenValDate.show()"
   ]
  },
  {
   "cell_type": "markdown",
   "id": "3bfd8cbf",
   "metadata": {},
   "source": [
    "### OrderBy"
   ]
  },
  {
   "cell_type": "code",
   "execution_count": 79,
   "id": "30af4354",
   "metadata": {},
   "outputs": [
    {
     "name": "stderr",
     "output_type": "stream",
     "text": [
      "\r",
      "[Stage 20:>                                                         (0 + 1) / 1]\r"
     ]
    },
    {
     "name": "stdout",
     "output_type": "stream",
     "text": [
      "+------+-----------------+--------------+------+----------------+\n",
      "|    id|IOTSensorlocation|   Measurement| Value|        readDate|\n",
      "+------+-----------------+--------------+------+----------------+\n",
      "|141996|       PVarrayGen|WattsGenerated|5085.0|25/09/2021 11:39|\n",
      "|141888|       PVarrayGen|WattsGenerated|5084.0|25/09/2021 11:33|\n",
      "| 46124|       PVarrayGen|WattsGenerated|5084.0|21/09/2021 11:48|\n",
      "|141920|       PVarrayGen|WattsGenerated|5082.0|25/09/2021 11:35|\n",
      "|220032|       PVarrayGen|WattsGenerated|5082.0| 1/10/2021 11:59|\n",
      "|220028|       PVarrayGen|WattsGenerated|5082.0| 1/10/2021 11:59|\n",
      "|141908|       PVarrayGen|WattsGenerated|5080.0|25/09/2021 11:34|\n",
      "|220036|       PVarrayGen|WattsGenerated|5080.0| 1/10/2021 11:59|\n",
      "|141896|       PVarrayGen|WattsGenerated|5080.0|25/09/2021 11:33|\n",
      "|141864|       PVarrayGen|WattsGenerated|5078.0|25/09/2021 11:31|\n",
      "|219532|       PVarrayGen|WattsGenerated|5078.0| 1/10/2021 11:29|\n",
      "|219692|       PVarrayGen|WattsGenerated|5078.0| 1/10/2021 11:39|\n",
      "|141792|       PVarrayGen|WattsGenerated|5078.0|25/09/2021 11:27|\n",
      "|290992|       PVarrayGen|WattsGenerated|5078.0| 4/10/2021 11:47|\n",
      "| 46184|       PVarrayGen|WattsGenerated|5078.0|21/09/2021 11:51|\n",
      "|141668|       PVarrayGen|WattsGenerated|5077.0|25/09/2021 11:19|\n",
      "|  2656|       PVarrayGen|WattsGenerated|5076.0|19/09/2021 15:15|\n",
      "| 46128|       PVarrayGen|WattsGenerated|5076.0|21/09/2021 11:48|\n",
      "|141788|       PVarrayGen|WattsGenerated|5076.0|25/09/2021 11:27|\n",
      "|141892|       PVarrayGen|WattsGenerated|5076.0|25/09/2021 11:33|\n",
      "+------+-----------------+--------------+------+----------------+\n",
      "only showing top 20 rows\n",
      "\n"
     ]
    },
    {
     "name": "stderr",
     "output_type": "stream",
     "text": [
      "\r",
      "                                                                                \r"
     ]
    }
   ],
   "source": [
    "dfGen.orderBy(dfGen.Value.desc()).show()   #.asc()"
   ]
  },
  {
   "cell_type": "markdown",
   "id": "b32103fd",
   "metadata": {},
   "source": [
    "## Spark SQL"
   ]
  },
  {
   "cell_type": "code",
   "execution_count": 80,
   "id": "c69dbf07",
   "metadata": {},
   "outputs": [],
   "source": [
    "df.createOrReplaceTempView(\"solarData\")"
   ]
  },
  {
   "cell_type": "code",
   "execution_count": 81,
   "id": "caaae9b2",
   "metadata": {},
   "outputs": [],
   "source": [
    "sqlDf = spark.sql('SELECT Measurement , Value, readDate FROM solarData WHERE Measurement = \"WattsGenerated\" ORDER BY Value DESC')"
   ]
  },
  {
   "cell_type": "code",
   "execution_count": 82,
   "id": "1c5be61c",
   "metadata": {},
   "outputs": [
    {
     "name": "stderr",
     "output_type": "stream",
     "text": [
      "\r",
      "[Stage 21:>                                                         (0 + 1) / 1]\r"
     ]
    },
    {
     "name": "stdout",
     "output_type": "stream",
     "text": [
      "+--------------+------+----------------+\n",
      "|   Measurement| Value|        readDate|\n",
      "+--------------+------+----------------+\n",
      "|WattsGenerated|5085.0|25/09/2021 11:39|\n",
      "|WattsGenerated|5084.0|25/09/2021 11:33|\n",
      "|WattsGenerated|5084.0|21/09/2021 11:48|\n",
      "|WattsGenerated|5082.0|25/09/2021 11:35|\n",
      "|WattsGenerated|5082.0| 1/10/2021 11:59|\n",
      "|WattsGenerated|5082.0| 1/10/2021 11:59|\n",
      "|WattsGenerated|5080.0|25/09/2021 11:34|\n",
      "|WattsGenerated|5080.0| 1/10/2021 11:59|\n",
      "|WattsGenerated|5080.0|25/09/2021 11:33|\n",
      "|WattsGenerated|5078.0|25/09/2021 11:31|\n",
      "|WattsGenerated|5078.0| 1/10/2021 11:29|\n",
      "|WattsGenerated|5078.0| 1/10/2021 11:39|\n",
      "|WattsGenerated|5078.0|25/09/2021 11:27|\n",
      "|WattsGenerated|5078.0| 4/10/2021 11:47|\n",
      "|WattsGenerated|5078.0|21/09/2021 11:51|\n",
      "|WattsGenerated|5077.0|25/09/2021 11:19|\n",
      "|WattsGenerated|5076.0|19/09/2021 15:15|\n",
      "|WattsGenerated|5076.0|21/09/2021 11:48|\n",
      "|WattsGenerated|5076.0|25/09/2021 11:27|\n",
      "|WattsGenerated|5076.0|25/09/2021 11:33|\n",
      "+--------------+------+----------------+\n",
      "only showing top 20 rows\n",
      "\n"
     ]
    },
    {
     "name": "stderr",
     "output_type": "stream",
     "text": [
      "\r",
      "                                                                                \r"
     ]
    }
   ],
   "source": [
    "sqlDf.show()"
   ]
  },
  {
   "cell_type": "code",
   "execution_count": 138,
   "id": "b5857554",
   "metadata": {},
   "outputs": [
    {
     "name": "stderr",
     "output_type": "stream",
     "text": [
      "                                                                                \r"
     ]
    },
    {
     "name": "stdout",
     "output_type": "stream",
     "text": [
      "Row(Measurement='WattsGenerated', Value=5085.0, readDate='25/09/2021 11:39')\n"
     ]
    },
    {
     "name": "stderr",
     "output_type": "stream",
     "text": [
      "                                                                                \r"
     ]
    },
    {
     "data": {
      "text/plain": [
       "5085.0"
      ]
     },
     "execution_count": 138,
     "metadata": {},
     "output_type": "execute_result"
    }
   ],
   "source": [
    "rowZero = sqlDf.collect()[0]\n",
    "print(rowZero)\n",
    "# https://stackoverflow.com/questions/35243744/get-specific-row-from-spark-dataframe\n",
    "#df.select(\"column\").collect()[0][0]\n",
    "sqlDf.select(\"Value\").collect()[0][0]"
   ]
  },
  {
   "cell_type": "code",
   "execution_count": 139,
   "id": "6f715acb",
   "metadata": {},
   "outputs": [
    {
     "name": "stdout",
     "output_type": "stream",
     "text": [
      "25/09/2021 11:39 5085.0\n"
     ]
    }
   ],
   "source": [
    "theDate = rowZero['readDate']\n",
    "thevalue = rowZero['Value']\n",
    "print(theDate, thevalue)\n"
   ]
  },
  {
   "cell_type": "code",
   "execution_count": 83,
   "id": "e021b05f",
   "metadata": {},
   "outputs": [],
   "source": [
    "# http://localhost:4040/jobs/"
   ]
  },
  {
   "cell_type": "code",
   "execution_count": 84,
   "id": "22b23a8c",
   "metadata": {},
   "outputs": [],
   "source": [
    "import pandas as pd\n",
    "from datetime import datetime\n",
    "import matplotlib.pyplot as plt"
   ]
  },
  {
   "cell_type": "code",
   "execution_count": 85,
   "id": "ef5f25d0",
   "metadata": {},
   "outputs": [
    {
     "name": "stderr",
     "output_type": "stream",
     "text": [
      "                                                                                \r"
     ]
    }
   ],
   "source": [
    "pdfGen = dfGen.toPandas()"
   ]
  },
  {
   "cell_type": "code",
   "execution_count": 86,
   "id": "1c666740",
   "metadata": {},
   "outputs": [
    {
     "data": {
      "text/html": [
       "<div>\n",
       "<style scoped>\n",
       "    .dataframe tbody tr th:only-of-type {\n",
       "        vertical-align: middle;\n",
       "    }\n",
       "\n",
       "    .dataframe tbody tr th {\n",
       "        vertical-align: top;\n",
       "    }\n",
       "\n",
       "    .dataframe thead th {\n",
       "        text-align: right;\n",
       "    }\n",
       "</style>\n",
       "<table border=\"1\" class=\"dataframe\">\n",
       "  <thead>\n",
       "    <tr style=\"text-align: right;\">\n",
       "      <th></th>\n",
       "      <th>id</th>\n",
       "      <th>IOTSensorlocation</th>\n",
       "      <th>Measurement</th>\n",
       "      <th>Value</th>\n",
       "      <th>readDate</th>\n",
       "    </tr>\n",
       "  </thead>\n",
       "  <tbody>\n",
       "    <tr>\n",
       "      <th>0</th>\n",
       "      <td>2124</td>\n",
       "      <td>PVarrayGen</td>\n",
       "      <td>WattsGenerated</td>\n",
       "      <td>4560.0</td>\n",
       "      <td>19/09/2021 14:43</td>\n",
       "    </tr>\n",
       "    <tr>\n",
       "      <th>1</th>\n",
       "      <td>2128</td>\n",
       "      <td>PVarrayGen</td>\n",
       "      <td>WattsGenerated</td>\n",
       "      <td>4570.0</td>\n",
       "      <td>19/09/2021 14:43</td>\n",
       "    </tr>\n",
       "    <tr>\n",
       "      <th>2</th>\n",
       "      <td>2132</td>\n",
       "      <td>PVarrayGen</td>\n",
       "      <td>WattsGenerated</td>\n",
       "      <td>4396.0</td>\n",
       "      <td>19/09/2021 14:44</td>\n",
       "    </tr>\n",
       "    <tr>\n",
       "      <th>3</th>\n",
       "      <td>2136</td>\n",
       "      <td>PVarrayGen</td>\n",
       "      <td>WattsGenerated</td>\n",
       "      <td>4596.0</td>\n",
       "      <td>19/09/2021 14:44</td>\n",
       "    </tr>\n",
       "    <tr>\n",
       "      <th>4</th>\n",
       "      <td>2140</td>\n",
       "      <td>PVarrayGen</td>\n",
       "      <td>WattsGenerated</td>\n",
       "      <td>4432.0</td>\n",
       "      <td>19/09/2021 14:44</td>\n",
       "    </tr>\n",
       "    <tr>\n",
       "      <th>...</th>\n",
       "      <td>...</td>\n",
       "      <td>...</td>\n",
       "      <td>...</td>\n",
       "      <td>...</td>\n",
       "      <td>...</td>\n",
       "    </tr>\n",
       "    <tr>\n",
       "      <th>48851</th>\n",
       "      <td>420261</td>\n",
       "      <td>PVarrayGen</td>\n",
       "      <td>WattsGenerated</td>\n",
       "      <td>4802.0</td>\n",
       "      <td>10/10/2021 11:25</td>\n",
       "    </tr>\n",
       "    <tr>\n",
       "      <th>48852</th>\n",
       "      <td>420265</td>\n",
       "      <td>PVarrayGen</td>\n",
       "      <td>WattsGenerated</td>\n",
       "      <td>4810.0</td>\n",
       "      <td>10/10/2021 11:25</td>\n",
       "    </tr>\n",
       "    <tr>\n",
       "      <th>48853</th>\n",
       "      <td>420269</td>\n",
       "      <td>PVarrayGen</td>\n",
       "      <td>WattsGenerated</td>\n",
       "      <td>4846.0</td>\n",
       "      <td>10/10/2021 11:26</td>\n",
       "    </tr>\n",
       "    <tr>\n",
       "      <th>48854</th>\n",
       "      <td>420273</td>\n",
       "      <td>PVarrayGen</td>\n",
       "      <td>WattsGenerated</td>\n",
       "      <td>4866.0</td>\n",
       "      <td>10/10/2021 11:26</td>\n",
       "    </tr>\n",
       "    <tr>\n",
       "      <th>48855</th>\n",
       "      <td>420277</td>\n",
       "      <td>PVarrayGen</td>\n",
       "      <td>WattsGenerated</td>\n",
       "      <td>1127.0</td>\n",
       "      <td>21/10/2021 8:45</td>\n",
       "    </tr>\n",
       "  </tbody>\n",
       "</table>\n",
       "<p>48856 rows × 5 columns</p>\n",
       "</div>"
      ],
      "text/plain": [
       "           id IOTSensorlocation     Measurement   Value          readDate\n",
       "0        2124        PVarrayGen  WattsGenerated  4560.0  19/09/2021 14:43\n",
       "1        2128        PVarrayGen  WattsGenerated  4570.0  19/09/2021 14:43\n",
       "2        2132        PVarrayGen  WattsGenerated  4396.0  19/09/2021 14:44\n",
       "3        2136        PVarrayGen  WattsGenerated  4596.0  19/09/2021 14:44\n",
       "4        2140        PVarrayGen  WattsGenerated  4432.0  19/09/2021 14:44\n",
       "...       ...               ...             ...     ...               ...\n",
       "48851  420261        PVarrayGen  WattsGenerated  4802.0  10/10/2021 11:25\n",
       "48852  420265        PVarrayGen  WattsGenerated  4810.0  10/10/2021 11:25\n",
       "48853  420269        PVarrayGen  WattsGenerated  4846.0  10/10/2021 11:26\n",
       "48854  420273        PVarrayGen  WattsGenerated  4866.0  10/10/2021 11:26\n",
       "48855  420277        PVarrayGen  WattsGenerated  1127.0   21/10/2021 8:45\n",
       "\n",
       "[48856 rows x 5 columns]"
      ]
     },
     "execution_count": 86,
     "metadata": {},
     "output_type": "execute_result"
    }
   ],
   "source": [
    "pdfGen"
   ]
  },
  {
   "cell_type": "code",
   "execution_count": 90,
   "id": "2ce5ad20",
   "metadata": {},
   "outputs": [
    {
     "data": {
      "text/plain": [
       "id                     int32\n",
       "IOTSensorlocation     object\n",
       "Measurement           object\n",
       "Value                float64\n",
       "readDate              object\n",
       "dtype: object"
      ]
     },
     "execution_count": 90,
     "metadata": {},
     "output_type": "execute_result"
    }
   ],
   "source": [
    "pdfGen.dtypes"
   ]
  },
  {
   "cell_type": "code",
   "execution_count": null,
   "id": "9b35189a",
   "metadata": {},
   "outputs": [],
   "source": [
    "# filter on date"
   ]
  },
  {
   "cell_type": "code",
   "execution_count": 92,
   "id": "caefc197",
   "metadata": {},
   "outputs": [],
   "source": [
    "pdfGen['readDate'] = pd.to_datetime(pdfGen['readDate'], dayfirst = True)"
   ]
  },
  {
   "cell_type": "code",
   "execution_count": 93,
   "id": "59aa951b",
   "metadata": {},
   "outputs": [
    {
     "data": {
      "text/plain": [
       "id                            int32\n",
       "IOTSensorlocation            object\n",
       "Measurement                  object\n",
       "Value                       float64\n",
       "readDate             datetime64[ns]\n",
       "dtype: object"
      ]
     },
     "execution_count": 93,
     "metadata": {},
     "output_type": "execute_result"
    }
   ],
   "source": [
    "pdfGen.dtypes"
   ]
  },
  {
   "cell_type": "code",
   "execution_count": 101,
   "id": "7c51dbe9",
   "metadata": {},
   "outputs": [],
   "source": [
    "now = datetime.now()"
   ]
  },
  {
   "cell_type": "code",
   "execution_count": 116,
   "id": "4b5a0de2",
   "metadata": {},
   "outputs": [],
   "source": [
    "# a single day\n",
    "#dateMask = ((pdfGen['readDate'] > '20/09/2021 15:00') & (pdfGen['readDate'] < now))\n",
    "dateMask = ((pdfGen['readDate'] > '25/09/2021 00:00') & (pdfGen['readDate'] < '25/09/2021 23:59'))"
   ]
  },
  {
   "cell_type": "code",
   "execution_count": 117,
   "id": "315b0b39",
   "metadata": {},
   "outputs": [],
   "source": [
    "pdfGenDay = pdfGen.loc[dateMask]"
   ]
  },
  {
   "cell_type": "code",
   "execution_count": 121,
   "id": "cbdeff0e",
   "metadata": {},
   "outputs": [
    {
     "data": {
      "text/plain": [
       "[Text(0.5, 0, 'date'),\n",
       " Text(0, 0.5, 'Generation Watts'),\n",
       " Text(0.5, 1.0, 'Measurement of generation for 25/09/21')]"
      ]
     },
     "execution_count": 121,
     "metadata": {},
     "output_type": "execute_result"
    },
    {
     "data": {
      "image/png": "[encoded data removed]",
      "text/plain": [
       "<Figure size 720x720 with 1 Axes>"
      ]
     },
     "metadata": {
      "needs_background": "light"
     },
     "output_type": "display_data"
    }
   ],
   "source": [
    "fig, ax = plt.subplots(figsize=(10,10))\n",
    "ax.plot(pdfGenDay['readDate'],pdfGenDay['Value'], color ='red')\n",
    "ax.set(xlabel = \"date\", ylabel= \"Generation Watts\",\n",
    "      title = \"Measurement of generation for 25/09/21\")"
   ]
  },
  {
   "cell_type": "code",
   "execution_count": 120,
   "id": "bc5739f2",
   "metadata": {},
   "outputs": [],
   "source": [
    "plt.show()"
   ]
  },
  {
   "cell_type": "code",
   "execution_count": null,
   "id": "15a86476",
   "metadata": {},
   "outputs": [],
   "source": []
  },
  {
   "cell_type": "code",
   "execution_count": 59,
   "id": "59434900",
   "metadata": {},
   "outputs": [],
   "source": [
    "spark.stop()"
   ]
  },
  {
   "cell_type": "code",
   "execution_count": 115,
   "id": "73e00449",
   "metadata": {},
   "outputs": [
    {
     "name": "stderr",
     "output_type": "stream",
     "text": [
      "\r",
      "[Stage 33:>                                                         (0 + 1) / 1]\r"
     ]
    },
    {
     "name": "stdout",
     "output_type": "stream",
     "text": [
      "+----------------+\n",
      "|        readDate|\n",
      "+----------------+\n",
      "|25/09/2021 11:39|\n",
      "+----------------+\n",
      "\n"
     ]
    },
    {
     "name": "stderr",
     "output_type": "stream",
     "text": [
      "\r",
      "                                                                                \r"
     ]
    }
   ],
   "source": [
    "sqlDf2 = spark.sql('SELECT readDate FROM solarData WHERE Measurement = \"WattsGenerated\" ORDER BY Value DESC LIMIT 1')\n",
    "sqlDf2.show()"
   ]
  },
  {
   "cell_type": "code",
   "execution_count": 109,
   "id": "47fdc980",
   "metadata": {},
   "outputs": [
    {
     "ename": "AttributeError",
     "evalue": "'DataFrame' object has no attribute 'loc'",
     "output_type": "error",
     "traceback": [
      "\u001b[0;31m---------------------------------------------------------------------------\u001b[0m",
      "\u001b[0;31mAttributeError\u001b[0m                            Traceback (most recent call last)",
      "\u001b[0;32m/tmp/ipykernel_3619/2339877410.py\u001b[0m in \u001b[0;36m<module>\u001b[0;34m\u001b[0m\n\u001b[0;32m----> 1\u001b[0;31m \u001b[0msqlDf2\u001b[0m\u001b[0;34m.\u001b[0m\u001b[0mloc\u001b[0m\u001b[0;34m[\u001b[0m\u001b[0;36m0\u001b[0m\u001b[0;34m]\u001b[0m\u001b[0;34m[\u001b[0m\u001b[0;36m2\u001b[0m\u001b[0;34m]\u001b[0m\u001b[0;34m\u001b[0m\u001b[0;34m\u001b[0m\u001b[0m\n\u001b[0m",
      "\u001b[0;32m/opt/spark/python/pyspark/sql/dataframe.py\u001b[0m in \u001b[0;36m__getattr__\u001b[0;34m(self, name)\u001b[0m\n\u001b[1;32m   1641\u001b[0m         \"\"\"\n\u001b[1;32m   1642\u001b[0m         \u001b[0;32mif\u001b[0m \u001b[0mname\u001b[0m \u001b[0;32mnot\u001b[0m \u001b[0;32min\u001b[0m \u001b[0mself\u001b[0m\u001b[0;34m.\u001b[0m\u001b[0mcolumns\u001b[0m\u001b[0;34m:\u001b[0m\u001b[0;34m\u001b[0m\u001b[0;34m\u001b[0m\u001b[0m\n\u001b[0;32m-> 1643\u001b[0;31m             raise AttributeError(\n\u001b[0m\u001b[1;32m   1644\u001b[0m                 \"'%s' object has no attribute '%s'\" % (self.__class__.__name__, name))\n\u001b[1;32m   1645\u001b[0m         \u001b[0mjc\u001b[0m \u001b[0;34m=\u001b[0m \u001b[0mself\u001b[0m\u001b[0;34m.\u001b[0m\u001b[0m_jdf\u001b[0m\u001b[0;34m.\u001b[0m\u001b[0mapply\u001b[0m\u001b[0;34m(\u001b[0m\u001b[0mname\u001b[0m\u001b[0;34m)\u001b[0m\u001b[0;34m\u001b[0m\u001b[0;34m\u001b[0m\u001b[0m\n",
      "\u001b[0;31mAttributeError\u001b[0m: 'DataFrame' object has no attribute 'loc'"
     ]
    }
   ],
   "source": [
    "sqlDf2.loc[0][2]"
   ]
  },
  {
   "cell_type": "code",
   "execution_count": null,
   "id": "1a7eb6e3",
   "metadata": {},
   "outputs": [],
   "source": []
  }
 ],
 "metadata": {
  "kernelspec": {
   "display_name": "Python 3 (ipykernel)",
   "language": "python",
   "name": "python3"
  },
  "language_info": {
   "codemirror_mode": {
    "name": "ipython",
    "version": 3
   },
   "file_extension": ".py",
   "mimetype": "text/x-python",
   "name": "python",
   "nbconvert_exporter": "python",
   "pygments_lexer": "ipython3",
   "version": "3.8.10"
  }
 },
 "nbformat": 4,
 "nbformat_minor": 5
}
